{
  "nbformat": 4,
  "nbformat_minor": 0,
  "metadata": {
    "colab": {
      "name": "affine_pix2pix.ipynb",
      "private_outputs": true,
      "provenance": [],
      "collapsed_sections": [],
      "machine_shape": "hm",
      "mount_file_id": "1SH0WnM8bO9MtpAr3E6NnxlRKTVBbFh2j",
      "authorship_tag": "ABX9TyOwWk8B/6rBq9qqGXcARHWb",
      "include_colab_link": true
    },
    "kernelspec": {
      "name": "python3",
      "display_name": "Python 3"
    },
    "language_info": {
      "name": "python"
    },
    "accelerator": "GPU"
  },
  "cells": [
    {
      "cell_type": "markdown",
      "metadata": {
        "id": "view-in-github",
        "colab_type": "text"
      },
      "source": [
        "<a href=\"https://colab.research.google.com/github/chrober24/colab_dump/blob/main/affine_pix2pix.ipynb\" target=\"_parent\"><img src=\"https://colab.research.google.com/assets/colab-badge.svg\" alt=\"Open In Colab\"/></a>"
      ]
    },
    {
      "cell_type": "code",
      "source": [
        "%tensorflow_version 2.x\n",
        "!pip uninstall -y tensorflow\n",
        "!pip install tensorflow-gpu==1.14.0\n",
        "\n",
        "import tensorflow\n",
        "print(tensorflow.__version__)"
      ],
      "metadata": {
        "id": "9LY9wwdbabBm"
      },
      "execution_count": null,
      "outputs": []
    },
    {
      "cell_type": "code",
      "execution_count": null,
      "metadata": {
        "cellView": "form",
        "id": "bWQi3wbp1NvZ"
      },
      "outputs": [],
      "source": [
        "#@title Connect Google Drive\n",
        "\n",
        "from google.colab import drive\n",
        "drive.mount('/content/drive')"
      ]
    },
    {
      "cell_type": "code",
      "source": [
        "#@title Setup\n",
        "\n",
        "import os\n",
        "if os.path.isdir(\"/content/drive/MyDrive/affine_pix2pix\"):\n",
        "  %cd \"/content/drive/MyDrive/affine_pix2pix/pix2pix-tensorflow\"\n",
        "elif os.path.isdir(\"/content/drive/\"):\n",
        "  #install script\n",
        "  %cd \"/content/drive/MyDrive/\"\n",
        "  !mkdir affine_pix2pix\n",
        "  %cd affine_pix2pix\n",
        "  !git clone https://github.com/affinelayer/pix2pix-tensorflow\n",
        "  %cd pix2pix-tensorflow\n",
        "  !mkdir data\n",
        "  %cd data\n",
        "  !mkdir A\n",
        "  !mkdir B\n",
        "  %cd ../\n",
        "  !mkdir training\n",
        "else:\n",
        "  !git clone https://github.com/affinelayer/pix2pix-tensorflow\n",
        "  %cd pix2pix-tensorflow\n",
        "  !mkdir data\n",
        "  %cd data\n",
        "  !mkdir A\n",
        "  !mkdir B\n",
        "  %cd ../\n",
        "  !mkdir training"
      ],
      "metadata": {
        "id": "N6dW5wX91ack"
      },
      "execution_count": null,
      "outputs": []
    },
    {
      "cell_type": "code",
      "source": [
        "#@title Process Dataset for Pix2pix \n",
        "#@markdown This script will combine folders A and B into image pairs \n",
        "!python tools/process.py \\\n",
        "  --input_dir data/A \\\n",
        "  --b_dir data/B \\\n",
        "  --operation combine \\\n",
        "  --output_dir data/C"
      ],
      "metadata": {
        "cellView": "form",
        "id": "ftkFKwyb4p_A"
      },
      "execution_count": null,
      "outputs": []
    },
    {
      "cell_type": "code",
      "source": [
        "!python pix2pix.py \\\n",
        "  --mode train \\\n",
        "  --output_dir training/footprint_program_train \\\n",
        "  --max_epochs 2000 \\\n",
        "  --input_dir data/C \\\n",
        "  --which_direction AtoB \\\n",
        "  --display_freq 1000 \\\n",
        "  --save_freq 500\n",
        "  #--checkpoint None"
      ],
      "metadata": {
        "id": "bBF_6rYU6hsW"
      },
      "execution_count": null,
      "outputs": []
    },
    {
      "cell_type": "code",
      "source": [
        "#@title Train Pix2pix\n",
        "\n",
        "\n",
        "mode = \"train\" \n",
        "resume = False #@param {type: 'boolean'}\n",
        "checkpoint = \"/content/drive/MyDrive/affine_pix2pix/pix2pix-tensorflow/training/footprint_program_train\" #@param {type: 'string'}\n",
        "indir = \"data/C\" #@param {type: 'string'}\n",
        "outdir = \"training/footprint_program_train\" #@param {type: 'string'}\n",
        "epochs = 2000 #@param {type: 'number'}\n",
        "direction = \"AtoB\" #@param ['AtoB', 'BtoA']\n",
        "diaplay_freq = 500 #@param {type: 'number'}\n",
        "save_freq = 100 #@param {type: 'number'}\n",
        "\n",
        "if resume == True:\n",
        "  !python pix2pix.py \\\n",
        "    --mode trin \\\n",
        "    --output_dir $outdir \\\n",
        "    --max_epochs $epochs \\\n",
        "    --input_dir $indir \\\n",
        "    --which_direction $direction \\\n",
        "    --display_freq $display_freq \\\n",
        "    --save_freq $save_freq \\\n",
        "    --checkpoint $checkpoint\n",
        "else: \n",
        "  !python pix2pix.py \\\n",
        "    --mode train \\\n",
        "    --output_dir $outdir \\\n",
        "    --max_epochs $epochs \\\n",
        "    --input_dir $indir \\\n",
        "    --which_direction $direction \\\n",
        "    --display_freq $display_freq \\\n",
        "    --save_freq $save_freq"
      ],
      "metadata": {
        "cellView": "form",
        "id": "Id8y4ExI0dMg"
      },
      "execution_count": null,
      "outputs": []
    },
    {
      "cell_type": "code",
      "source": [
        "#@title dsoplay training results as html\n",
        "from IPython.display import display, HTML, IFrame\n",
        "display(HTML(\"./training/footprint_program_train/index.html\"))"
      ],
      "metadata": {
        "cellView": "form",
        "id": "28PvdVDoB_UO"
      },
      "execution_count": null,
      "outputs": []
    }
  ]
}