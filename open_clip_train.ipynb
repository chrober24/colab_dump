{
  "nbformat": 4,
  "nbformat_minor": 0,
  "metadata": {
    "colab": {
      "name": "open_clip_train.ipynb",
      "private_outputs": true,
      "provenance": [],
      "machine_shape": "hm",
      "mount_file_id": "1686SYWkb7-iYPwhhxuO-1b_5ppLPUdze",
      "authorship_tag": "ABX9TyPWECJNrMupt9kWqgMh4Ud3",
      "include_colab_link": true
    },
    "kernelspec": {
      "name": "python3",
      "display_name": "Python 3"
    },
    "language_info": {
      "name": "python"
    },
    "accelerator": "GPU"
  },
  "cells": [
    {
      "cell_type": "markdown",
      "metadata": {
        "id": "view-in-github",
        "colab_type": "text"
      },
      "source": [
        "<a href=\"https://colab.research.google.com/github/chrober24/colab_dump/blob/main/open_clip_train.ipynb\" target=\"_parent\"><img src=\"https://colab.research.google.com/assets/colab-badge.svg\" alt=\"Open In Colab\"/></a>"
      ]
    },
    {
      "cell_type": "code",
      "source": [
        "%cd /content/drive/MyDrive"
      ],
      "metadata": {
        "id": "B9MgEz95RSd3"
      },
      "execution_count": null,
      "outputs": []
    },
    {
      "cell_type": "code",
      "source": [
        "!mkdir mlf-CLIP\n",
        "%cd mlf-CLIP\n",
        "!git clone https://github.com/mlfoundations/open_clip"
      ],
      "metadata": {
        "id": "IL95vgKBRUzO"
      },
      "execution_count": null,
      "outputs": []
    },
    {
      "cell_type": "code",
      "execution_count": null,
      "metadata": {
        "id": "GmXMh9EvMx4i"
      },
      "outputs": [],
      "source": [
        "%cd /content/drive/MyDrive/mlf-CLIP/open_clip\n",
        "!mkdir CC"
      ]
    },
    {
      "cell_type": "code",
      "source": [
        "!export PYTHONPATH=\"$PYTHONPATH:$PWD/src\""
      ],
      "metadata": {
        "id": "yjzfZ7_9otDB"
      },
      "execution_count": null,
      "outputs": []
    },
    {
      "cell_type": "code",
      "source": [
        "!pip install wandb\n",
        "!pip install clip\n",
        "!pip install ftfy\n",
        "!pip install braceexpand\n",
        "!pip install webdataset"
      ],
      "metadata": {
        "id": "lGR43e8NH6N2"
      },
      "execution_count": null,
      "outputs": []
    },
    {
      "cell_type": "code",
      "source": [
        "!tensorboard --logdir=logs/tensorboard/ --port=7777"
      ],
      "metadata": {
        "id": "UWyAobszPCaP"
      },
      "execution_count": null,
      "outputs": []
    },
    {
      "cell_type": "code",
      "source": [
        "%cd open_clip/"
      ],
      "metadata": {
        "id": "AZszoUp6pUny"
      },
      "execution_count": null,
      "outputs": []
    },
    {
      "cell_type": "code",
      "source": [
        "!python ./src/data/gather_cc.py /content/drive/MyDrive/mlf-CLIP/open_clip/CC/Train_GCC-training.tsv /content/drive/MyDrive/mlf-CLIP/open_clip/CC/Validation_GCC-1.1.0-Validation.tsv"
      ],
      "metadata": {
        "id": "KuhkQ9BBQg0U"
      },
      "execution_count": null,
      "outputs": []
    },
    {
      "cell_type": "code",
      "source": [
        "!python -u main.py --save-frequency 1 --zeroshot-frequency 1 --train-data=\"/content/dataset.csv\" --csv-img-key filepath --csv-caption-key title --csv-separator=\",\" --debug --warmup 10000 --batch-size=128 --lr=1e-3 --wd=0.1 --epochs=30 --workers=8 --model RN50\n",
        "\n",
        "    #--report-to tensorboard \\\n",
        "    #--val-data=\"/path/to/validation_data.csv\"  \\"
      ],
      "metadata": {
        "id": "5W4yYE8PPEG2"
      },
      "execution_count": null,
      "outputs": []
    },
    {
      "cell_type": "code",
      "source": [
        "%cd /content/drive/MyDrive/mlf-CLIP/open_clip/src\n",
        "\n"
      ],
      "metadata": {
        "id": "4kpH2N-9H8cN"
      },
      "execution_count": null,
      "outputs": []
    },
    {
      "cell_type": "code",
      "source": [
        "%%writefile __init__.py\n",
        "\n",
        "# empty"
      ],
      "metadata": {
        "id": "SWSd1BEqJYWh"
      },
      "execution_count": null,
      "outputs": []
    },
    {
      "cell_type": "code",
      "source": [
        "open_clip_checkpoint_pth = '/content/drive/MyDrive/mlf-CLIP/open_clip/src/logs/lr=0.001_wd=0.1_agg=True_model=RN50_batchsize=128_workers=8_date=2022-03-15-21-27-42/checkpoints/epoch_29.pt' #@param {type: 'string'}\n",
        "clip_checkpoint_pth = '/content/clip_checkpoint.pt' #@param {type: 'string'}"
      ],
      "metadata": {
        "id": "2JtBnmOxm6sv"
      },
      "execution_count": null,
      "outputs": []
    },
    {
      "cell_type": "code",
      "source": [
        "import torch\n",
        "open_clip_cp = torch.load(open_clip_checkpoint_pth)\n",
        "open_clip_sd = {k[7:]:v for k, v in open_clip_cp['state_dict'].items()}\n",
        "torch.save(open_clip_sd, clip_checkpoint_pth)"
      ],
      "metadata": {
        "id": "2e3LDxq8mF9m"
      },
      "execution_count": null,
      "outputs": []
    },
    {
      "cell_type": "code",
      "source": [
        "import clip # import OpenAI's CLIP\n",
        "model = clip.load(clip_checkpoint_pth)"
      ],
      "metadata": {
        "id": "jy5NQi35mRfX"
      },
      "execution_count": null,
      "outputs": []
    },
    {
      "cell_type": "code",
      "source": [
        "!mv /content/clip_checkpoint.pt /content/drive/MyDrive/mlf-CLIP/open_clip"
      ],
      "metadata": {
        "id": "tgGfxdZgE3PH"
      },
      "execution_count": null,
      "outputs": []
    },
    {
      "cell_type": "code",
      "source": [
        ""
      ],
      "metadata": {
        "id": "Ef-xCliriM5O"
      },
      "execution_count": null,
      "outputs": []
    }
  ]
}